{
 "cells": [
  {
   "cell_type": "markdown",
   "id": "dba50305-7016-4356-b041-3b7076f9adb6",
   "metadata": {},
   "source": [
    "Q1. What is a database? Differentiate between SQL and NoSQL databases."
   ]
  },
  {
   "cell_type": "markdown",
   "id": "7fe25d9a-ea81-4eee-ada8-0f787185f6dc",
   "metadata": {},
   "source": [
    "Databases are the collection of data in order to store and retrieve data. The database consists of data which can be a numeric, alphabetic and also alphanumeric form.\n",
    "\n",
    "Difference between SQL and NoSQL\n",
    "\n",
    "1.Type – \n",
    "SQL databases are primarily called as Relational Databases (RDBMS); whereas NoSQL database are primarily called as non-relational or distributed database. \n",
    "\n",
    "2.SQL databases have fixed or static or predefined schema whereas NoSQL have dynamic schema.\n",
    "\n",
    "3.SQL databases are not suited for hierarchical data storage whereas NoSQL databases are best suited for hierarchical data storage.\n",
    "\n",
    "4 SQL are vertically scalable whereas NoSQL are horizontally scalable.\n",
    "\n",
    "5.SQL follows ACID property whereas NoSQL follows CAP(consistency, availability, partition tolerance).\n"
   ]
  },
  {
   "cell_type": "markdown",
   "id": "d7f93235-5ac3-4bf2-a913-43c4509fe6c9",
   "metadata": {},
   "source": [
    "Q2. What is DDL? Explain why CREATE, DROP, ALTER, and TRUNCATE are used with an example."
   ]
  },
  {
   "cell_type": "markdown",
   "id": "50b2b711-df23-4238-bec9-b663947de350",
   "metadata": {},
   "source": [
    "Data Definition Language (DDL) is used to create and modify the structure of objects in a database using predefined commands and a specific syntax. These database objects include tables, sequences, locations, aliases, schemas and indexes.\n",
    "\n",
    "CREATE - This command is used to create a new table, database in SQL. The user has to give information like table name, column names, and their datatypes.ex table for storing Student information\n",
    "Syntax\n",
    "CREATE TABLE [table name] ([column definitions]) [table parameters];\n",
    "\n",
    "DROP-DDL also includes several DROP commands to delete objects in a database. DROP commands cannot be undone, so once an object is deleted, it cannot be recovered.ex the College Authority wants to change their Database by deleting the Student_info Table. \n",
    "Syntax\n",
    "DROP object type object name;\n",
    "\n",
    "ALTER-The third group of DDL commands is ALTER. These commands are used to make modifications to database objects, such as indexes, locations and stogroups.ex-In our Student_info table, we want to add a new column for CGPA. \n",
    "Syntax\n",
    "ALTER object type object name parameters;\n",
    "\n",
    "TRUNCATE-This command is used to remove all rows from the table, but the structure of the table still exists.ex-The Authority wants to remove the details of all students for new batches but wants to keep the table structure.\n",
    "Syntax\n",
    "TRUNCATE TABLE table_name;\n"
   ]
  },
  {
   "cell_type": "markdown",
   "id": "44b5fb83-e5e8-4bb7-adfb-af268ef4c60b",
   "metadata": {},
   "source": [
    "Q3. What is DML? Explain INSERT, UPDATE, and DELETE with an example."
   ]
  },
  {
   "cell_type": "markdown",
   "id": "f0831e86-0346-47dd-91b8-5442a935bd60",
   "metadata": {},
   "source": [
    "DML is Data Manipulation Language which is used to manipulate data itself.When it comes to interacting within existing data, whether adding, moving, or deleting data, it provides a convenient way to do so.\n",
    "\n",
    "INSERT - This command is used to enter the information or values into a row. ex- if we want to add a student detail in pre existing data base .\n",
    "Syntax-\n",
    "INSERT INTO <table_name> ('column_name1' <datatype>, 'column_name2' <datatype>)\n",
    "    \n",
    "VALUES ('value1', 'value2'); \n",
    "    \n",
    "UPDATE-This command is used to alter existing table records. Within a table, it modifies data from one or more records.ex When we want to update a student detail in a table.\n",
    "Syntax-\n",
    "UPDATE <table_name>\n",
    "SET <column_name = value>\n",
    "WHERE condition; \n",
    "\n",
    "DELETE- It deletes all archives from a table. This command is used to erase some or all of the previous table’s records.ex- If we want to delete a student detail from a table .\n",
    "Syntax-\n",
    "DELETE FROM <table_name>\n",
    "WHERE <condition>; \n"
   ]
  },
  {
   "cell_type": "markdown",
   "id": "0072219e-c1ba-42fb-bcd5-9c93541787ba",
   "metadata": {},
   "source": [
    "Q4. What is DQL? Explain SELECT with an example."
   ]
  },
  {
   "cell_type": "markdown",
   "id": "8f6d80e9-a500-4652-9289-484694947f7c",
   "metadata": {},
   "source": [
    "DQL statements are used for performing queries on the data within schema objects. The purpose of the DQL Command is to get some schema relation based on the query passed to it.\n",
    "\n",
    "SELECT-It is used to retrieve data from the database.We can fetch either the entire table or according to some specified rules.  ex - If want to know the deatil of the student from table .\n",
    "\n",
    "Syntax-\n",
    "SELECT column1,column2 FROM table_name \n",
    "column1 , column2: names of the fields of the table\n",
    "table_name: from where we want to apply query"
   ]
  },
  {
   "cell_type": "markdown",
   "id": "931e3dab-2635-41f1-a6e8-ab2bf2b52731",
   "metadata": {},
   "source": [
    "Q5. Explain Primary Key and Foreign Key."
   ]
  },
  {
   "cell_type": "markdown",
   "id": "6b978fb6-4144-4207-853a-8f424128ad9a",
   "metadata": {},
   "source": [
    "A primary key is a column or a set of columns in a table whose values uniquely identify a row in the table. A relational database is designed to enforce the uniqueness of primary keys by allowing only one row with a given primary key value in a table.\n",
    "\n",
    "A foreign key is a column or a set of columns in a table whose values correspond to the values of the primary key in another table. In order to add a row with a given foreign key value, there must exist a row in the related table with the same primary key value.\n",
    "Surrogate keys"
   ]
  },
  {
   "cell_type": "markdown",
   "id": "6e99d348-720f-4010-a778-709f99f111cc",
   "metadata": {},
   "source": [
    "Q6. Write a python code to connect MySQL to python. Explain the cursor() and execute() method."
   ]
  },
  {
   "cell_type": "markdown",
   "id": "7fbf0a2a-c511-4842-a69f-519575ab7179",
   "metadata": {},
   "source": [
    "Import mysql.connector\n",
    "mydb=mysql.connector.connect(\n",
    "  host=\"localhost\",\n",
    "  user=\"abc\",\n",
    "  password=\"password\"\n",
    ")\n",
    "print(mydb)\n",
    "mycursor = mydb.cursor()\n",
    "    \n",
    "The MySQLCursor of mysql-connector-python (and similar libraries) is used to execute statements to communicate with the MySQL database.It is an object that is used to make the connection for executing SQL queries.\n",
    "\n",
    "execute()\n",
    "This method accepts a MySQL query as a parameter and executes the given query."
   ]
  },
  {
   "cell_type": "markdown",
   "id": "7aca7f1c-9253-42b1-807f-388358b9daed",
   "metadata": {},
   "source": [
    "Q7. Give the order of execution of SQL clauses in an SQL query."
   ]
  },
  {
   "cell_type": "markdown",
   "id": "eae6941c-5976-4045-8227-bcdcb4a2e52b",
   "metadata": {},
   "source": [
    "The order in which the clauses in queries are executed is as follows:\n",
    "\n",
    "1. FROM/JOIN: The FROM and/or JOIN clauses are executed first to determine the data of interest.\n",
    "\n",
    "2. WHERE: The WHERE clause is executed to filter out records that do not meet the constraints.\n",
    "\n",
    "3. GROUP BY: The GROUP BY clause is executed to group the data based on the values in one or more columns.\n",
    "\n",
    "4. HAVING: The HAVING clause is executed to remove the created grouped records that don’t meet the constraints.\n",
    "\n",
    "5. SELECT: The SELECT clause is executed to derive all desired columns and expressions.\n",
    "\n",
    "6. ORDER BY: The ORDER BY clause is executed to sort the derived values in ascending or descending order.\n",
    "\n",
    "7. LIMIT/OFFSET: Finally, the LIMIT and/or OFFSET clauses are executed to keep or skip a specified number of rows."
   ]
  },
  {
   "cell_type": "code",
   "execution_count": null,
   "id": "253d5529-1e5b-4a8d-a290-e5ab3cb239bc",
   "metadata": {},
   "outputs": [],
   "source": []
  },
  {
   "cell_type": "code",
   "execution_count": null,
   "id": "f12e22b9-450d-4724-92fa-e9f13c067122",
   "metadata": {},
   "outputs": [],
   "source": []
  }
 ],
 "metadata": {
  "kernelspec": {
   "display_name": "Python 3 (ipykernel)",
   "language": "python",
   "name": "python3"
  },
  "language_info": {
   "codemirror_mode": {
    "name": "ipython",
    "version": 3
   },
   "file_extension": ".py",
   "mimetype": "text/x-python",
   "name": "python",
   "nbconvert_exporter": "python",
   "pygments_lexer": "ipython3",
   "version": "3.10.8"
  }
 },
 "nbformat": 4,
 "nbformat_minor": 5
}
